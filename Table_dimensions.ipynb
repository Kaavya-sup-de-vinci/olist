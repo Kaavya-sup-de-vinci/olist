{
 "cells": [
  {
   "cell_type": "code",
   "execution_count": 44,
   "metadata": {},
   "outputs": [],
   "source": [
    "import pandas as pd \n"
   ]
  },
  {
   "cell_type": "code",
   "execution_count": 45,
   "metadata": {},
   "outputs": [],
   "source": [
    "customers = pd.read_csv(\"olist_customers_dataset.csv\")\n",
    "geolocalisation =  pd.read_csv(\"olist_geolocation_dataset.csv\")\n",
    "order_items = pd.read_csv(\"olist_order_items_dataset.csv\")\n",
    "payments = pd.read_csv(\"olist_order_payments_dataset.csv\")\n",
    "reviews = pd.read_csv(\"olist_order_reviews_dataset.csv\")\n",
    "orders = pd.read_csv(\"olist_orders_dataset.csv\")\n",
    "products = pd.read_csv(\"olist_products_dataset.csv\")\n",
    "sellers = pd.read_csv(\"olist_sellers_dataset.csv\")\n",
    "product_category = pd.read_csv(\"product_category_name_translation.csv\")"
   ]
  },
  {
   "cell_type": "code",
   "execution_count": 46,
   "metadata": {},
   "outputs": [],
   "source": [
    "products.drop(columns=[\"product_name_lenght\",\"product_description_lenght\",\"product_photos_qty\",\"product_weight_g\",\"product_length_cm\",\"product_height_cm\",\"product_width_cm\"],inplace=True)"
   ]
  },
  {
   "cell_type": "code",
   "execution_count": 47,
   "metadata": {},
   "outputs": [
    {
     "data": {
      "text/html": [
       "<div>\n",
       "<style scoped>\n",
       "    .dataframe tbody tr th:only-of-type {\n",
       "        vertical-align: middle;\n",
       "    }\n",
       "\n",
       "    .dataframe tbody tr th {\n",
       "        vertical-align: top;\n",
       "    }\n",
       "\n",
       "    .dataframe thead th {\n",
       "        text-align: right;\n",
       "    }\n",
       "</style>\n",
       "<table border=\"1\" class=\"dataframe\">\n",
       "  <thead>\n",
       "    <tr style=\"text-align: right;\">\n",
       "      <th></th>\n",
       "      <th>product_id</th>\n",
       "      <th>product_category_name</th>\n",
       "      <th>price</th>\n",
       "    </tr>\n",
       "  </thead>\n",
       "  <tbody>\n",
       "    <tr>\n",
       "      <th>0</th>\n",
       "      <td>1e9e8ef04dbcff4541ed26657ea517e5</td>\n",
       "      <td>perfumaria</td>\n",
       "      <td>10.91</td>\n",
       "    </tr>\n",
       "    <tr>\n",
       "      <th>1</th>\n",
       "      <td>3aa071139cb16b67ca9e5dea641aaa2f</td>\n",
       "      <td>artes</td>\n",
       "      <td>248.00</td>\n",
       "    </tr>\n",
       "    <tr>\n",
       "      <th>2</th>\n",
       "      <td>96bd76ec8810374ed1b65e291975717f</td>\n",
       "      <td>esporte_lazer</td>\n",
       "      <td>79.80</td>\n",
       "    </tr>\n",
       "    <tr>\n",
       "      <th>3</th>\n",
       "      <td>cef67bcfe19066a932b7673e239eb23d</td>\n",
       "      <td>bebes</td>\n",
       "      <td>112.30</td>\n",
       "    </tr>\n",
       "    <tr>\n",
       "      <th>4</th>\n",
       "      <td>9dc1a7de274444849c219cff195d0b71</td>\n",
       "      <td>utilidades_domesticas</td>\n",
       "      <td>37.90</td>\n",
       "    </tr>\n",
       "    <tr>\n",
       "      <th>...</th>\n",
       "      <td>...</td>\n",
       "      <td>...</td>\n",
       "      <td>...</td>\n",
       "    </tr>\n",
       "    <tr>\n",
       "      <th>98661</th>\n",
       "      <td>9a7c6041fa9592d9d9ef6cfe62a71f8c</td>\n",
       "      <td>cama_mesa_banho</td>\n",
       "      <td>127.00</td>\n",
       "    </tr>\n",
       "    <tr>\n",
       "      <th>98662</th>\n",
       "      <td>83808703fc0706a22e264b9d75f04a2e</td>\n",
       "      <td>informatica_acessorios</td>\n",
       "      <td>39.71</td>\n",
       "    </tr>\n",
       "    <tr>\n",
       "      <th>98663</th>\n",
       "      <td>83808703fc0706a22e264b9d75f04a2e</td>\n",
       "      <td>informatica_acessorios</td>\n",
       "      <td>29.90</td>\n",
       "    </tr>\n",
       "    <tr>\n",
       "      <th>98664</th>\n",
       "      <td>83808703fc0706a22e264b9d75f04a2e</td>\n",
       "      <td>informatica_acessorios</td>\n",
       "      <td>29.90</td>\n",
       "    </tr>\n",
       "    <tr>\n",
       "      <th>98665</th>\n",
       "      <td>106392145fca363410d287a815be6de4</td>\n",
       "      <td>cama_mesa_banho</td>\n",
       "      <td>107.50</td>\n",
       "    </tr>\n",
       "  </tbody>\n",
       "</table>\n",
       "<p>98666 rows × 3 columns</p>\n",
       "</div>"
      ],
      "text/plain": [
       "                             product_id   product_category_name   price\n",
       "0      1e9e8ef04dbcff4541ed26657ea517e5              perfumaria   10.91\n",
       "1      3aa071139cb16b67ca9e5dea641aaa2f                   artes  248.00\n",
       "2      96bd76ec8810374ed1b65e291975717f           esporte_lazer   79.80\n",
       "3      cef67bcfe19066a932b7673e239eb23d                   bebes  112.30\n",
       "4      9dc1a7de274444849c219cff195d0b71   utilidades_domesticas   37.90\n",
       "...                                 ...                     ...     ...\n",
       "98661  9a7c6041fa9592d9d9ef6cfe62a71f8c         cama_mesa_banho  127.00\n",
       "98662  83808703fc0706a22e264b9d75f04a2e  informatica_acessorios   39.71\n",
       "98663  83808703fc0706a22e264b9d75f04a2e  informatica_acessorios   29.90\n",
       "98664  83808703fc0706a22e264b9d75f04a2e  informatica_acessorios   29.90\n",
       "98665  106392145fca363410d287a815be6de4         cama_mesa_banho  107.50\n",
       "\n",
       "[98666 rows x 3 columns]"
      ]
     },
     "execution_count": 47,
     "metadata": {},
     "output_type": "execute_result"
    }
   ],
   "source": [
    "order_items.drop_duplicates(subset=\"order_id\",keep='first',inplace=True)\n",
    "dim_products = products.merge(order_items[['product_id', 'price']], on='product_id', how='inner')\n",
    "dim_products"
   ]
  },
  {
   "cell_type": "code",
   "execution_count": 48,
   "metadata": {},
   "outputs": [],
   "source": [
    "dim_products.drop_duplicates(subset=\"product_id\",keep='first',inplace=True)\n"
   ]
  },
  {
   "cell_type": "code",
   "execution_count": 49,
   "metadata": {},
   "outputs": [],
   "source": [
    "dim_products.to_csv(\"dim_products.csv\")"
   ]
  },
  {
   "cell_type": "code",
   "execution_count": 50,
   "metadata": {},
   "outputs": [],
   "source": [
    "dim_products = products.merge(product_category[[\"product_category_name\",\"product_category_name_english\"]], on='product_category_name', how='inner')"
   ]
  },
  {
   "cell_type": "code",
   "execution_count": 51,
   "metadata": {},
   "outputs": [],
   "source": [
    "dim_products = dim_products.rename(columns={\"product_category_name\": \"product_category\"})\n"
   ]
  },
  {
   "cell_type": "code",
   "execution_count": 52,
   "metadata": {},
   "outputs": [
    {
     "name": "stdout",
     "output_type": "stream",
     "text": [
      "Table dim_product créée et sauvegardée dans : C:\\Users\\boral\\OneDrive\\Documents\\Projet Entrepot données\\dim_product.csv\n"
     ]
    }
   ],
   "source": [
    "input_path = r\"C:\\Users\\boral\\OneDrive\\Documents\\Projet Entrepot données\\olist_products_dataset.csv\"\n",
    "output_path = r\"C:\\Users\\boral\\OneDrive\\Documents\\Projet Entrepot données\\dim_product.csv\"\n",
    " \n",
    "import os \n",
    "# Charger les données brutes\n",
    "products = pd.read_csv(input_path)\n",
    " \n",
    "# Créer la table dim_product avec les colonnes nécessaires\n",
    "dim_product = products[[\"product_id\", \"product_category_name\"]].copy()\n",
    " \n",
    "# Ajouter les colonnes manquantes\n",
    "dim_product[\"category\"] = dim_product[\"product_category_name\"]\n",
    "dim_product[\"product_price\"] = 0.0  # Valeur par défaut pour le prix\n",
    " \n",
    "# Sauvegarder la table nettoyée\n",
    "os.makedirs(os.path.dirname(output_path), exist_ok=True)\n",
    "dim_product.to_csv(output_path, index=False)\n",
    " \n",
    "print(f\"Table dim_product créée et sauvegardée dans : {output_path}\")"
   ]
  },
  {
   "cell_type": "code",
   "execution_count": 53,
   "metadata": {},
   "outputs": [],
   "source": [
    "\n",
    "dim_products = dim_product.merge(order_items[['product_id', 'price']], on='product_id', how='inner')\n",
    "\n"
   ]
  },
  {
   "cell_type": "code",
   "execution_count": 54,
   "metadata": {},
   "outputs": [],
   "source": [
    "dim_products.drop_duplicates(subset=\"product_id\",keep='first',inplace=True)"
   ]
  },
  {
   "cell_type": "code",
   "execution_count": 55,
   "metadata": {},
   "outputs": [],
   "source": [
    "dim_products.drop(columns=\"product_price\",inplace=True)"
   ]
  },
  {
   "cell_type": "code",
   "execution_count": 56,
   "metadata": {},
   "outputs": [
    {
     "data": {
      "text/html": [
       "<div>\n",
       "<style scoped>\n",
       "    .dataframe tbody tr th:only-of-type {\n",
       "        vertical-align: middle;\n",
       "    }\n",
       "\n",
       "    .dataframe tbody tr th {\n",
       "        vertical-align: top;\n",
       "    }\n",
       "\n",
       "    .dataframe thead th {\n",
       "        text-align: right;\n",
       "    }\n",
       "</style>\n",
       "<table border=\"1\" class=\"dataframe\">\n",
       "  <thead>\n",
       "    <tr style=\"text-align: right;\">\n",
       "      <th></th>\n",
       "      <th>product_id</th>\n",
       "      <th>product_category_name</th>\n",
       "      <th>category</th>\n",
       "      <th>price</th>\n",
       "    </tr>\n",
       "  </thead>\n",
       "  <tbody>\n",
       "    <tr>\n",
       "      <th>0</th>\n",
       "      <td>1e9e8ef04dbcff4541ed26657ea517e5</td>\n",
       "      <td>perfumaria</td>\n",
       "      <td>perfumaria</td>\n",
       "      <td>10.91</td>\n",
       "    </tr>\n",
       "    <tr>\n",
       "      <th>1</th>\n",
       "      <td>3aa071139cb16b67ca9e5dea641aaa2f</td>\n",
       "      <td>artes</td>\n",
       "      <td>artes</td>\n",
       "      <td>248.00</td>\n",
       "    </tr>\n",
       "    <tr>\n",
       "      <th>2</th>\n",
       "      <td>96bd76ec8810374ed1b65e291975717f</td>\n",
       "      <td>esporte_lazer</td>\n",
       "      <td>esporte_lazer</td>\n",
       "      <td>79.80</td>\n",
       "    </tr>\n",
       "    <tr>\n",
       "      <th>3</th>\n",
       "      <td>cef67bcfe19066a932b7673e239eb23d</td>\n",
       "      <td>bebes</td>\n",
       "      <td>bebes</td>\n",
       "      <td>112.30</td>\n",
       "    </tr>\n",
       "    <tr>\n",
       "      <th>4</th>\n",
       "      <td>9dc1a7de274444849c219cff195d0b71</td>\n",
       "      <td>utilidades_domesticas</td>\n",
       "      <td>utilidades_domesticas</td>\n",
       "      <td>37.90</td>\n",
       "    </tr>\n",
       "    <tr>\n",
       "      <th>...</th>\n",
       "      <td>...</td>\n",
       "      <td>...</td>\n",
       "      <td>...</td>\n",
       "      <td>...</td>\n",
       "    </tr>\n",
       "    <tr>\n",
       "      <th>98624</th>\n",
       "      <td>a0b7d5a992ccda646f2d34e418fff5a0</td>\n",
       "      <td>moveis_decoracao</td>\n",
       "      <td>moveis_decoracao</td>\n",
       "      <td>69.90</td>\n",
       "    </tr>\n",
       "    <tr>\n",
       "      <th>98655</th>\n",
       "      <td>bf4538d88321d0fd4412a93c974510e6</td>\n",
       "      <td>construcao_ferramentas_iluminacao</td>\n",
       "      <td>construcao_ferramentas_iluminacao</td>\n",
       "      <td>160.00</td>\n",
       "    </tr>\n",
       "    <tr>\n",
       "      <th>98657</th>\n",
       "      <td>9a7c6041fa9592d9d9ef6cfe62a71f8c</td>\n",
       "      <td>cama_mesa_banho</td>\n",
       "      <td>cama_mesa_banho</td>\n",
       "      <td>127.00</td>\n",
       "    </tr>\n",
       "    <tr>\n",
       "      <th>98662</th>\n",
       "      <td>83808703fc0706a22e264b9d75f04a2e</td>\n",
       "      <td>informatica_acessorios</td>\n",
       "      <td>informatica_acessorios</td>\n",
       "      <td>39.71</td>\n",
       "    </tr>\n",
       "    <tr>\n",
       "      <th>98665</th>\n",
       "      <td>106392145fca363410d287a815be6de4</td>\n",
       "      <td>cama_mesa_banho</td>\n",
       "      <td>cama_mesa_banho</td>\n",
       "      <td>107.50</td>\n",
       "    </tr>\n",
       "  </tbody>\n",
       "</table>\n",
       "<p>31881 rows × 4 columns</p>\n",
       "</div>"
      ],
      "text/plain": [
       "                             product_id              product_category_name  \\\n",
       "0      1e9e8ef04dbcff4541ed26657ea517e5                         perfumaria   \n",
       "1      3aa071139cb16b67ca9e5dea641aaa2f                              artes   \n",
       "2      96bd76ec8810374ed1b65e291975717f                      esporte_lazer   \n",
       "3      cef67bcfe19066a932b7673e239eb23d                              bebes   \n",
       "4      9dc1a7de274444849c219cff195d0b71              utilidades_domesticas   \n",
       "...                                 ...                                ...   \n",
       "98624  a0b7d5a992ccda646f2d34e418fff5a0                   moveis_decoracao   \n",
       "98655  bf4538d88321d0fd4412a93c974510e6  construcao_ferramentas_iluminacao   \n",
       "98657  9a7c6041fa9592d9d9ef6cfe62a71f8c                    cama_mesa_banho   \n",
       "98662  83808703fc0706a22e264b9d75f04a2e             informatica_acessorios   \n",
       "98665  106392145fca363410d287a815be6de4                    cama_mesa_banho   \n",
       "\n",
       "                                category   price  \n",
       "0                             perfumaria   10.91  \n",
       "1                                  artes  248.00  \n",
       "2                          esporte_lazer   79.80  \n",
       "3                                  bebes  112.30  \n",
       "4                  utilidades_domesticas   37.90  \n",
       "...                                  ...     ...  \n",
       "98624                   moveis_decoracao   69.90  \n",
       "98655  construcao_ferramentas_iluminacao  160.00  \n",
       "98657                    cama_mesa_banho  127.00  \n",
       "98662             informatica_acessorios   39.71  \n",
       "98665                    cama_mesa_banho  107.50  \n",
       "\n",
       "[31881 rows x 4 columns]"
      ]
     },
     "execution_count": 56,
     "metadata": {},
     "output_type": "execute_result"
    }
   ],
   "source": [
    "dim_products"
   ]
  },
  {
   "cell_type": "code",
   "execution_count": 57,
   "metadata": {},
   "outputs": [],
   "source": [
    "customers.drop(columns=[\"customer_unique_id\", \"customer_zip_code_prefix\"], inplace=True)\n"
   ]
  },
  {
   "cell_type": "code",
   "execution_count": 58,
   "metadata": {},
   "outputs": [],
   "source": [
    "customers.drop_duplicates(subset=\"customer_id\",keep='first',inplace=True)"
   ]
  },
  {
   "cell_type": "code",
   "execution_count": 59,
   "metadata": {},
   "outputs": [],
   "source": [
    "customers.to_csv(\"dim_customers.csv\")"
   ]
  },
  {
   "cell_type": "code",
   "execution_count": 60,
   "metadata": {},
   "outputs": [],
   "source": [
    "sellers.drop(columns=[\"seller_zip_code_prefix\"],inplace=True)"
   ]
  },
  {
   "cell_type": "code",
   "execution_count": 61,
   "metadata": {},
   "outputs": [],
   "source": [
    "dim_sellers=sellers"
   ]
  },
  {
   "cell_type": "code",
   "execution_count": 62,
   "metadata": {},
   "outputs": [
    {
     "data": {
      "text/html": [
       "<div>\n",
       "<style scoped>\n",
       "    .dataframe tbody tr th:only-of-type {\n",
       "        vertical-align: middle;\n",
       "    }\n",
       "\n",
       "    .dataframe tbody tr th {\n",
       "        vertical-align: top;\n",
       "    }\n",
       "\n",
       "    .dataframe thead th {\n",
       "        text-align: right;\n",
       "    }\n",
       "</style>\n",
       "<table border=\"1\" class=\"dataframe\">\n",
       "  <thead>\n",
       "    <tr style=\"text-align: right;\">\n",
       "      <th></th>\n",
       "      <th>seller_id</th>\n",
       "      <th>seller_city</th>\n",
       "      <th>seller_state</th>\n",
       "    </tr>\n",
       "  </thead>\n",
       "  <tbody>\n",
       "    <tr>\n",
       "      <th>0</th>\n",
       "      <td>3442f8959a84dea7ee197c632cb2df15</td>\n",
       "      <td>campinas</td>\n",
       "      <td>SP</td>\n",
       "    </tr>\n",
       "    <tr>\n",
       "      <th>1</th>\n",
       "      <td>d1b65fc7debc3361ea86b5f14c68d2e2</td>\n",
       "      <td>mogi guacu</td>\n",
       "      <td>SP</td>\n",
       "    </tr>\n",
       "    <tr>\n",
       "      <th>2</th>\n",
       "      <td>ce3ad9de960102d0677a81f5d0bb7b2d</td>\n",
       "      <td>rio de janeiro</td>\n",
       "      <td>RJ</td>\n",
       "    </tr>\n",
       "    <tr>\n",
       "      <th>3</th>\n",
       "      <td>c0f3eea2e14555b6faeea3dd58c1b1c3</td>\n",
       "      <td>sao paulo</td>\n",
       "      <td>SP</td>\n",
       "    </tr>\n",
       "    <tr>\n",
       "      <th>4</th>\n",
       "      <td>51a04a8a6bdcb23deccc82b0b80742cf</td>\n",
       "      <td>braganca paulista</td>\n",
       "      <td>SP</td>\n",
       "    </tr>\n",
       "    <tr>\n",
       "      <th>...</th>\n",
       "      <td>...</td>\n",
       "      <td>...</td>\n",
       "      <td>...</td>\n",
       "    </tr>\n",
       "    <tr>\n",
       "      <th>3090</th>\n",
       "      <td>98dddbc4601dd4443ca174359b237166</td>\n",
       "      <td>sarandi</td>\n",
       "      <td>PR</td>\n",
       "    </tr>\n",
       "    <tr>\n",
       "      <th>3091</th>\n",
       "      <td>f8201cab383e484733266d1906e2fdfa</td>\n",
       "      <td>palhoca</td>\n",
       "      <td>SC</td>\n",
       "    </tr>\n",
       "    <tr>\n",
       "      <th>3092</th>\n",
       "      <td>74871d19219c7d518d0090283e03c137</td>\n",
       "      <td>sao paulo</td>\n",
       "      <td>SP</td>\n",
       "    </tr>\n",
       "    <tr>\n",
       "      <th>3093</th>\n",
       "      <td>e603cf3fec55f8697c9059638d6c8eb5</td>\n",
       "      <td>pelotas</td>\n",
       "      <td>RS</td>\n",
       "    </tr>\n",
       "    <tr>\n",
       "      <th>3094</th>\n",
       "      <td>9e25199f6ef7e7c347120ff175652c3b</td>\n",
       "      <td>taubate</td>\n",
       "      <td>SP</td>\n",
       "    </tr>\n",
       "  </tbody>\n",
       "</table>\n",
       "<p>3095 rows × 3 columns</p>\n",
       "</div>"
      ],
      "text/plain": [
       "                             seller_id        seller_city seller_state\n",
       "0     3442f8959a84dea7ee197c632cb2df15           campinas           SP\n",
       "1     d1b65fc7debc3361ea86b5f14c68d2e2         mogi guacu           SP\n",
       "2     ce3ad9de960102d0677a81f5d0bb7b2d     rio de janeiro           RJ\n",
       "3     c0f3eea2e14555b6faeea3dd58c1b1c3          sao paulo           SP\n",
       "4     51a04a8a6bdcb23deccc82b0b80742cf  braganca paulista           SP\n",
       "...                                ...                ...          ...\n",
       "3090  98dddbc4601dd4443ca174359b237166            sarandi           PR\n",
       "3091  f8201cab383e484733266d1906e2fdfa            palhoca           SC\n",
       "3092  74871d19219c7d518d0090283e03c137          sao paulo           SP\n",
       "3093  e603cf3fec55f8697c9059638d6c8eb5            pelotas           RS\n",
       "3094  9e25199f6ef7e7c347120ff175652c3b            taubate           SP\n",
       "\n",
       "[3095 rows x 3 columns]"
      ]
     },
     "execution_count": 62,
     "metadata": {},
     "output_type": "execute_result"
    }
   ],
   "source": [
    "dim_sellers"
   ]
  },
  {
   "cell_type": "code",
   "execution_count": 63,
   "metadata": {},
   "outputs": [],
   "source": [
    "fact_sales = pd.read_csv(\"fact_Sales.csv\")\n",
    "fact_sales.drop(columns=\"Unnamed: 0\",inplace=True)"
   ]
  },
  {
   "cell_type": "code",
   "execution_count": 64,
   "metadata": {},
   "outputs": [],
   "source": [
    "dim_sellers.to_csv(\"dim_sellers.csv\")"
   ]
  },
  {
   "cell_type": "code",
   "execution_count": 67,
   "metadata": {},
   "outputs": [
    {
     "name": "stdout",
     "output_type": "stream",
     "text": [
      "Table dim_time créée et sauvegardée dans : C:\\Users\\boral\\OneDrive\\Documents\\Projet Entrepot données\\dim_time.csv\n"
     ]
    }
   ],
   "source": [
    "# Chemin vers le fichier source et de sortie\n",
    "input_path = r\"C:\\Users\\boral\\OneDrive\\Documents\\Projet Entrepot données\\olist_order_items.csv\"\n",
    "output_path = r\"C:\\Users\\boral\\OneDrive\\Documents\\Projet Entrepot données\\dim_time.csv\"\n",
    " \n",
    "# Charger les données des commandes (source potentielle de order_date)\n",
    "orders = pd.read_csv(input_path)\n",
    " \n",
    "orders[\"order_purchase_timestamp\"] = pd.to_datetime(orders[\"order_purchase_timestamp\"])\n",
    " \n",
    "# Créer la table dim_time avec les colonnes nécessaires\n",
    "dim_time = pd.DataFrame()\n",
    "dim_time[\"order_date\"] = orders[\"order_purchase_timestamp\"].dt.date  # Extraire la date\n",
    "dim_time[\"month\"] = orders[\"order_purchase_timestamp\"].dt.month  # Extraire le mois\n",
    "dim_time[\"year\"] = orders[\"order_purchase_timestamp\"].dt.year  # Extraire l'année\n",
    "dim_time[\"quarter\"] = orders[\"order_purchase_timestamp\"].dt.quarter  # Extraire le trimestre\n",
    "dim_time[\"quarter\"] = orders[\"order_id\"]\n",
    " \n",
    "# Générer une clé primaire unique pour date_id\n",
    "dim_time[\"date_id\"] = dim_time[\"order_date\"].astype(str).str.replace(\"-\", \"\")\n",
    " \n",
    "# Réorganiser les colonnes\n",
    "dim_time = dim_time[[\"date_id\", \"order_date\", \"month\", \"year\", \"quarter\"]]\n",
    " \n",
    "# Supprimer les doublons (une date unique par ligne)\n",
    "dim_time = dim_time.drop_duplicates()\n",
    " \n",
    "# Sauvegarder la table dim_time\n",
    "os.makedirs(os.path.dirname(output_path), exist_ok=True)\n",
    "dim_time.to_csv(output_path, index=False)\n",
    " \n",
    "print(f\"Table dim_time créée et sauvegardée dans : {output_path}\")\n",
    " "
   ]
  },
  {
   "cell_type": "code",
   "execution_count": null,
   "metadata": {},
   "outputs": [],
   "source": [
    "orders[\"order_date\"] = pd.to_datetime(orders[\"order_purchase_timestamp\"])\n",
    "\n",
    "dim_time = pd.DataFrame()\n",
    "dim_time[\"order_id\"] = orders[\"order_id\"]\n",
    "dim_time[\"order_date\"] = orders[\"order_date\"]\n",
    "dim_time[\"month\"] = orders[\"order_date\"].dt.month\n",
    "dim_time[\"year\"] = orders[\"order_date\"].dt.year\n",
    "dim_time[\"quarter\"] = \"Q\" + ((orders[\"order_date\"].dt.month - 1) // 3 + 1).astype(str)\n",
    "\n",
    "dim_time.to_csv(\"dim_time.csv\", index=False)"
   ]
  }
 ],
 "metadata": {
  "kernelspec": {
   "display_name": "Python 3",
   "language": "python",
   "name": "python3"
  },
  "language_info": {
   "codemirror_mode": {
    "name": "ipython",
    "version": 3
   },
   "file_extension": ".py",
   "mimetype": "text/x-python",
   "name": "python",
   "nbconvert_exporter": "python",
   "pygments_lexer": "ipython3",
   "version": "3.12.1"
  }
 },
 "nbformat": 4,
 "nbformat_minor": 2
}
